{
 "cells": [
  {
   "cell_type": "code",
   "execution_count": 46,
   "id": "85898fb8",
   "metadata": {},
   "outputs": [],
   "source": [
    "import psycopg2\n",
    "\n",
    "\n",
    "params = {\n",
    "  'dbname': 'gplates',\n",
    "  'user': 'gplates',\n",
    "  'password': 'zaq12wsx',\n",
    "  'host': '127.0.0.1',\n",
    "  'port': 5432\n",
    "}\n",
    "\n",
    "conn = psycopg2.connect(**params)\n",
    "cur = conn.cursor()\n",
    "\n",
    "sql = \"\"\"SELECT ST_AsGDALRaster(rast, 'PNG', ARRAY['COMPRESS=LZW']) FROM public.age_grid ;\"\"\"\n",
    "cur.execute(sql)\n",
    "data = cur.fetchall()\n",
    "\n",
    "tif_data = data[0][0] #This can passed as the data variable in the requests.put function\n",
    "with open(\"/Users/mchin/Downloads/pg_raster.png\", \"wb\") as f:\n",
    "    f.write(tif_data)"
   ]
  },
  {
   "cell_type": "code",
   "execution_count": 55,
   "id": "invalid-contract",
   "metadata": {},
   "outputs": [
    {
     "data": {
      "text/plain": [
       "<matplotlib.image.AxesImage at 0x7fc31f05f4a8>"
      ]
     },
     "execution_count": 55,
     "metadata": {},
     "output_type": "execute_result"
    },
    {
     "data": {
      "image/png": "[encoded data removed]",
      "text/plain": [
       "<Figure size 432x288 with 1 Axes>"
      ]
     },
     "metadata": {
      "needs_background": "light"
     },
     "output_type": "display_data"
    }
   ],
   "source": [
    "import matplotlib.pyplot as plt\n",
    "import numpy as np\n",
    "import matplotlib.image as mpimg\n",
    "\n",
    "with open(\"tmp.png\", \"wb\") as f:\n",
    "    f.write(data[200][0])\n",
    "    \n",
    "img = mpimg.imread(\"tmp.png\")\n",
    "\n",
    "#print(len(data))\n",
    "plt.imshow(img)"
   ]
  },
  {
   "cell_type": "code",
   "execution_count": 51,
   "id": "incorporate-webster",
   "metadata": {},
   "outputs": [
    {
     "ename": "TypeError",
     "evalue": "initial_value must be str or None, not memoryview",
     "output_type": "error",
     "traceback": [
      "\u001b[0;31m---------------------------------------------------------------------------\u001b[0m",
      "\u001b[0;31mTypeError\u001b[0m                                 Traceback (most recent call last)",
      "\u001b[0;32m<ipython-input-51-30c3ab91e67f>\u001b[0m in \u001b[0;36m<module>\u001b[0;34m\u001b[0m\n\u001b[1;32m      1\u001b[0m \u001b[0;32mfrom\u001b[0m \u001b[0mio\u001b[0m \u001b[0;32mimport\u001b[0m \u001b[0mStringIO\u001b[0m\u001b[0;34m\u001b[0m\u001b[0m\n\u001b[1;32m      2\u001b[0m \u001b[0;32mimport\u001b[0m \u001b[0mmatplotlib\u001b[0m\u001b[0;34m.\u001b[0m\u001b[0mimage\u001b[0m \u001b[0;32mas\u001b[0m \u001b[0mmpimg\u001b[0m\u001b[0;34m\u001b[0m\u001b[0m\n\u001b[0;32m----> 3\u001b[0;31m \u001b[0mimg\u001b[0m \u001b[0;34m=\u001b[0m \u001b[0mmpimg\u001b[0m\u001b[0;34m.\u001b[0m\u001b[0mimread\u001b[0m\u001b[0;34m(\u001b[0m\u001b[0mStringIO\u001b[0m\u001b[0;34m(\u001b[0m\u001b[0mdata\u001b[0m\u001b[0;34m[\u001b[0m\u001b[0;36m0\u001b[0m\u001b[0;34m]\u001b[0m\u001b[0;34m[\u001b[0m\u001b[0;36m0\u001b[0m\u001b[0;34m]\u001b[0m\u001b[0;34m)\u001b[0m\u001b[0;34m)\u001b[0m\u001b[0;34m\u001b[0m\u001b[0m\n\u001b[0m\u001b[1;32m      4\u001b[0m \u001b[0mplt\u001b[0m\u001b[0;34m.\u001b[0m\u001b[0mimshow\u001b[0m\u001b[0;34m(\u001b[0m\u001b[0mimg\u001b[0m\u001b[0;34m)\u001b[0m\u001b[0;34m\u001b[0m\u001b[0m\n",
      "\u001b[0;31mTypeError\u001b[0m: initial_value must be str or None, not memoryview"
     ]
    }
   ],
   "source": [
    "from io import StringIO\n",
    "import matplotlib.image as mpimg\n",
    "img = mpimg.imread(StringIO(data[0][0]))\n",
    "plt.imshow(img)\n"
   ]
  },
  {
   "cell_type": "code",
   "execution_count": null,
   "id": "aging-luxury",
   "metadata": {},
   "outputs": [],
   "source": []
  }
 ],
 "metadata": {
  "kernelspec": {
   "display_name": "Python 3",
   "language": "python",
   "name": "python3"
  },
  "language_info": {
   "codemirror_mode": {
    "name": "ipython",
    "version": 3
   },
   "file_extension": ".py",
   "mimetype": "text/x-python",
   "name": "python",
   "nbconvert_exporter": "python",
   "pygments_lexer": "ipython3",
   "version": "3.7.0"
  }
 },
 "nbformat": 4,
 "nbformat_minor": 5
}
