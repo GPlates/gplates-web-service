{
 "cells": [
  {
   "cell_type": "code",
   "execution_count": 30,
   "metadata": {
    "collapsed": false
   },
   "outputs": [
    {
     "name": "stdout",
     "output_type": "stream",
     "text": [
      "{\"geometry\": {\"coordinates\": [45, 32], \"type\": \"Point\"}, \"properties\": {}, \"type\": \"Feature\"}\n",
      "200\n"
     ]
    }
   ],
   "source": [
    "import requests\n",
    "import json\n",
    "import geojson\n",
    "import numpy as np\n",
    "import matplotlib.pyplot as plt\n",
    "from mpl_toolkits.basemap import Basemap\n",
    "from matplotlib.collections import PatchCollection\n",
    "from matplotlib.patches import Polygon\n",
    "\n",
    "%matplotlib inline\n",
    "\n",
    "proxies = {'http':''}\n",
    "\n",
    "points = geojson.Feature(geometry=geojson.Point((45,32)))\n",
    "\n",
    "print geojson.dumps(points, sort_keys=True)\n",
    "\n",
    "#files = {'file': open('/Users/Simon/temp/static_polygons.xy', 'r')}\n",
    "\n",
    "#r = requests.post('http://127.0.0.1:8000/reconstruct_file/test_post/',\n",
    "#                 files=files,\n",
    "#                 proxies=proxies)\n",
    "r = requests.post('http://127.0.0.1:8000/reconstruct_file/test_post/',\n",
    "                 json=geojson.dumps(points, sort_keys=True),\n",
    "                 proxies=proxies)\n",
    "\n",
    "\n",
    "\n",
    "print r.status_code\n",
    "#mp = json.loads(r.text)\n",
    "\n",
    "\n"
   ]
  },
  {
   "cell_type": "code",
   "execution_count": 31,
   "metadata": {
    "collapsed": true
   },
   "outputs": [],
   "source": []
  },
  {
   "cell_type": "code",
   "execution_count": null,
   "metadata": {
    "collapsed": true
   },
   "outputs": [],
   "source": []
  }
 ],
 "metadata": {
  "kernelspec": {
   "display_name": "Python 2",
   "language": "python",
   "name": "python2"
  },
  "language_info": {
   "codemirror_mode": {
    "name": "ipython",
    "version": 2
   },
   "file_extension": ".py",
   "mimetype": "text/x-python",
   "name": "python",
   "nbconvert_exporter": "python",
   "pygments_lexer": "ipython2",
   "version": "2.7.12"
  }
 },
 "nbformat": 4,
 "nbformat_minor": 0
}
