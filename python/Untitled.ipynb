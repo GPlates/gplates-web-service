{
 "cells": [
  {
   "cell_type": "code",
   "execution_count": 23,
   "metadata": {
    "collapsed": false
   },
   "outputs": [
    {
     "name": "stdout",
     "output_type": "stream",
     "text": [
      "200\n",
      "{'Date': 'Thu, 16 Feb 2017 02:43:37 GMT', 'Access-Control-Allow-Origin': '*', 'Content-Type': 'application/json', 'X-Frame-Options': 'SAMEORIGIN', 'Server': 'WSGIServer/0.1 Python/2.7.12'}\n",
      "{\"type\": \"FeatureCollection\", \"features\": [{\"geometry\": {\"type\": \"LineString\", \"coordinates\": [[-2.16, -43.52], [4.33, 19.03]]}, \"type\": \"Feature\", \"properties\": {}}]}\n",
      "reconstructed features:\n",
      "[{u'geometry': {u'type': u'LineString', u'coordinates': [[-2.16, -43.52], [4.33, 19.03]]}, u'type': u'Feature', u'properties': {}}]\n"
     ]
    },
    {
     "data": {
      "image/png": "[encoded data removed]",
      "text/plain": [
       "<matplotlib.figure.Figure at 0x110d54fd0>"
      ]
     },
     "metadata": {},
     "output_type": "display_data"
    }
   ],
   "source": [
    "import requests\n",
    "import json\n",
    "import geojson\n",
    "import numpy as np\n",
    "import matplotlib.pyplot as plt\n",
    "import pandas as pd\n",
    "\n",
    "%matplotlib inline\n",
    "\n",
    "proxies = {'http':''}\n",
    "\n",
    "\n",
    "\n",
    "json_str = '{\"type\":\"FeatureCollection\",\"features\":[{\"type\":\"Feature\",\"geometry\":{\"type\":\"LineString\",\"coordinates\":[[23,-20.0],[-9.0, 35.0]]},\"properties\":{}}]}'\n",
    "# Send the request\n",
    "r = requests.get('http://127.0.0.1:8000/reconstruct/reconstruct_feature_collection/?feature_collection=%s' % json_str,\n",
    "                 proxies=proxies)\n",
    "\n",
    "\n",
    "json_str = '{\"type\":\"FeatureCollection\",\"features\":[{\"type\":\"Feature\",\"geometry\":{\"type\":\"LineString\",\"coordinates\":[[23,-20.0],[-9.0, 35.0]]},\"properties\":{\"id\":[[1]]}}]}'\n",
    "# Send the request\n",
    "r = requests.get('http://127.0.0.1:8000/reconstruct/reconstruct_feature_collection/?id_field=''id''&feature_collection=%s' % json_str,\n",
    "                 proxies=proxies)\n",
    "\n",
    "\n",
    "\n",
    "\n",
    "\n",
    "# Print some details of the response\n",
    "print r.status_code\n",
    "print r.headers\n",
    "print r.text\n",
    "rp = json.loads(r.text)\n",
    "\n",
    "print 'reconstructed features:'\n",
    "print rp['features']\n",
    "\n",
    "# Plot the result\n",
    "plt.figure(figsize=(14,7))\n",
    "#for feature in feature_collection:\n",
    "#    plt.plot(feature['geometry']['coordinates'][0],feature['geometry']['coordinates'][1],'r.')\n",
    "\n",
    "for rpf in rp['features']:\n",
    "    plt.plot(np.asarray(rpf['geometry']['coordinates'])[:,0],np.asarray(rpf['geometry']['coordinates'])[:,1],'bo')\n",
    "plt.show()\n",
    "\n"
   ]
  },
  {
   "cell_type": "code",
   "execution_count": null,
   "metadata": {
    "collapsed": true
   },
   "outputs": [],
   "source": []
  }
 ],
 "metadata": {
  "kernelspec": {
   "display_name": "Python 2",
   "language": "python",
   "name": "python2"
  },
  "language_info": {
   "codemirror_mode": {
    "name": "ipython",
    "version": 2
   },
   "file_extension": ".py",
   "mimetype": "text/x-python",
   "name": "python",
   "nbconvert_exporter": "python",
   "pygments_lexer": "ipython2",
   "version": "2.7.12"
  }
 },
 "nbformat": 4,
 "nbformat_minor": 0
}
