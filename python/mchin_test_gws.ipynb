{
 "cells": [
  {
   "cell_type": "code",
   "execution_count": 2,
   "metadata": {
    "collapsed": true
   },
   "outputs": [],
   "source": [
    "import requests, json\n",
    "SERVER_URL = 'https://130.56.249.211/'"
   ]
  },
  {
   "cell_type": "code",
   "execution_count": 3,
   "metadata": {
    "collapsed": false
   },
   "outputs": [
    {
     "name": "stdout",
     "output_type": "stream",
     "text": [
      "{\n",
      "    \"features\": [\n",
      "        {\n",
      "            \"geometry\": {\n",
      "                \"coordinates\": [\n",
      "                    84.99, \n",
      "                    59.26\n",
      "                ], \n",
      "                \"type\": \"Point\"\n",
      "            }, \n",
      "            \"properties\": {\n",
      "                \"valid_time\": [\n",
      "                    600.0, \n",
      "                    \"-inf\"\n",
      "                ]\n",
      "            }, \n",
      "            \"type\": \"Feature\"\n",
      "        }, \n",
      "        {\n",
      "            \"geometry\": null, \n",
      "            \"properties\": {\n",
      "                \"valid_time\": [\n",
      "                    10.0, \n",
      "                    \"-inf\"\n",
      "                ]\n",
      "            }, \n",
      "            \"type\": \"Feature\"\n",
      "        }, \n",
      "        {\n",
      "            \"geometry\": {\n",
      "                \"coordinates\": [\n",
      "                    123.37, \n",
      "                    -65.76\n",
      "                ], \n",
      "                \"type\": \"Point\"\n",
      "            }, \n",
      "            \"properties\": {\n",
      "                \"valid_time\": [\n",
      "                    600.0, \n",
      "                    \"-inf\"\n",
      "                ]\n",
      "            }, \n",
      "            \"type\": \"Feature\"\n",
      "        }\n",
      "    ], \n",
      "    \"type\": \"FeatureCollection\"\n",
      "}\n"
     ]
    }
   ],
   "source": [
    "\n",
    "data={'points':'95,54,142,-33', 'time':140}\n",
    "r = requests.get(SERVER_URL+'reconstruct/reconstruct_points/', params=data, verify=False)\n",
    "#print json.dumps(json.loads(str(r.text)), sort_keys=True, indent=4)\n",
    "\n",
    "r = requests.post(SERVER_URL+'reconstruct/reconstruct_points/',data=data,verify=False)\n",
    "#print json.dumps(json.loads(str(r.text)), sort_keys=True, indent=4)\n",
    "\n",
    "data={'points':'95,54,-117.26,32.7,142,-33', 'time':140, 'fc':''}\n",
    "r = requests.post(SERVER_URL+'reconstruct/reconstruct_points/',data=data,verify=False)\n",
    "#print json.dumps(json.loads(str(r.text)), sort_keys=True, indent=4)\n",
    "\n",
    "r = requests.get(SERVER_URL+'reconstruct/reconstruct_points/', params=data, verify=False)\n",
    "print json.dumps(json.loads(str(r.text)), sort_keys=True, indent=4)\n"
   ]
  },
  {
   "cell_type": "code",
   "execution_count": 11,
   "metadata": {
    "collapsed": false
   },
   "outputs": [
    {
     "name": "stdout",
     "output_type": "stream",
     "text": [
      "{\"type\": \"FeatureCollection\", \"features\": [{\"geometry\": {\"type\": \"Polygon\", \"coordinates\": [[[109.93, -46.70], [116.23, -49.13], [123.00, -51.31], [124.59, -55.62], [121.20, -59.30], [106.86, -56.69], [105.99, -53.22], [106.45, -50.10], [108.63, -46.37], [109.93, -46.70]]]}, \"type\": \"Feature\", \"properties\": {\"waht\": \"345\", \"id\": 123}}, {\"geometry\": {\"type\": \"Point\", \"coordinates\": [60.56, 29.83]}, \"type\": \"Feature\", \"properties\": {\"id\": 222}}]}\n"
     ]
    }
   ],
   "source": [
    " \n",
    "data= {\n",
    "    'feature_collection' :\n",
    "        '''{\"type\":\"FeatureCollection\",\n",
    "            \"features\":[\n",
    "                {\"type\":\"Feature\",\n",
    "                \"geometry\":{\n",
    "                    \"type\":\"Polygon\",\n",
    "                    \"coordinates\":[[[128,-17],[133,-18],[138,-19],\n",
    "                        [140,-23],[139,-27],[130,-27],[128,-24],\n",
    "                        [127,-21],[127,-17],[128,-17]]]},\n",
    "                    \"properties\":{\n",
    "                        \"id\":123,\n",
    "                        \"waht\":\"345\"\n",
    "                    }},\n",
    "                    \n",
    "                    {\"type\":\"Feature\",\n",
    "                    \"geometry\":\n",
    "                    {\n",
    "                        \"type\":\"Point\",\n",
    "                        \"coordinates\":[51.0, 38.0]\n",
    "                    },\n",
    "                    \"properties\":{\n",
    "                        \"id\":222\n",
    "                    }\n",
    "                    }\n",
    "            \n",
    "                    \n",
    "                    ]}\n",
    "        ''',\n",
    "    'geologicage':'140',\n",
    "    'model':'SETON2012',\n",
    "    \n",
    "}\n",
    "r = requests.get(SERVER_URL+'reconstruct/reconstruct_feature_collection/', params=data, verify=False)\n",
    "#print json.dumps(json.loads(str(r.text)), sort_keys=True, indent=4)\n",
    "\n",
    "data['keep_properties'] = ''\n",
    "r = requests.get(SERVER_URL+'reconstruct/reconstruct_feature_collection/', params=data, verify=False)\n",
    "#print json.dumps(json.loads(str(r.text)), sort_keys=True, indent=4)\n",
    "\n",
    "r = requests.post(SERVER_URL+'reconstruct/reconstruct_feature_collection/', data=data, verify=False)\n",
    "print r.text\n",
    "#print json.dumps(json.loads(str(r.text)), sort_keys=True, indent=4)"
   ]
  },
  {
   "cell_type": "code",
   "execution_count": null,
   "metadata": {
    "collapsed": true
   },
   "outputs": [],
   "source": []
  },
  {
   "cell_type": "code",
   "execution_count": null,
   "metadata": {
    "collapsed": true
   },
   "outputs": [],
   "source": []
  }
 ],
 "metadata": {
  "kernelspec": {
   "display_name": "Python 2",
   "language": "python",
   "name": "python2"
  },
  "language_info": {
   "codemirror_mode": {
    "name": "ipython",
    "version": 2
   },
   "file_extension": ".py",
   "mimetype": "text/x-python",
   "name": "python",
   "nbconvert_exporter": "python",
   "pygments_lexer": "ipython2",
   "version": "2.7.6"
  }
 },
 "nbformat": 4,
 "nbformat_minor": 2
}
