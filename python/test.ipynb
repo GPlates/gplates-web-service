{
 "cells": [
  {
   "cell_type": "markdown",
   "id": "boxed-refund",
   "metadata": {},
   "source": [
    "#### Start the docker container for development first\n",
    "\n",
    "* Go to the root directory of this repository and run  ``docker run -it --rm -v `pwd`:/gws -p 18000:80 gplates/gws /bin/bash``\n",
    "\n",
    "* Inside the virtual machine: `cd /gws/django/GWS && python3 manage.py runserver 0.0.0.0:80`\n",
    "\n",
    "* The dev server is at http://localhost:18000)"
   ]
  },
  {
   "cell_type": "code",
   "execution_count": null,
   "id": "underlying-endorsement",
   "metadata": {},
   "outputs": [],
   "source": [
    "import requests, json, time, random\n",
    "SERVER_URL = 'http://127.0.0.1:18000/'\n",
    "proxies = {'http':''}\n",
    "\n",
    "points_str=''\n",
    "for i in range(10000):\n",
    "    points_str+=f'{random.uniform(-180,180):3.2f},'\n",
    "    points_str+=f'{random.uniform(-90,90):3.2f},'\n",
    "\n",
    "#print(points_str)\n",
    "\n",
    "data={'time':140, 'return_null_points':''}\n",
    "data['points'] = points_str[:-1]\n",
    "\n",
    "#t = time.process_time()\n",
    "%timeit r = requests.post(SERVER_URL+'reconstruct/reconstruct_points/',data=data,verify=False, proxies=proxies)\n",
    "#elapsed_time = time.process_time() - t\n",
    "\n",
    "#print(elapsed_time)\n",
    "#print(r.text)\n",
    "#print(json.dumps(json.loads(str(r.text)), sort_keys=True, indent=4))\n",
    "\n"
   ]
  },
  {
   "cell_type": "code",
   "execution_count": null,
   "id": "hearing-gregory",
   "metadata": {},
   "outputs": [],
   "source": [
    "data = json.loads(str(r.text))\n",
    "#print(data)\n",
    "for i in data['coordinates']:\n",
    "    print(i)"
   ]
  },
  {
   "cell_type": "code",
   "execution_count": null,
   "id": "brilliant-france",
   "metadata": {},
   "outputs": [],
   "source": []
  }
 ],
 "metadata": {
  "kernelspec": {
   "display_name": "Python 3",
   "language": "python",
   "name": "python3"
  },
  "language_info": {
   "codemirror_mode": {
    "name": "ipython",
    "version": 3
   },
   "file_extension": ".py",
   "mimetype": "text/x-python",
   "name": "python",
   "nbconvert_exporter": "python",
   "pygments_lexer": "ipython3",
   "version": "3.7.0"
  }
 },
 "nbformat": 4,
 "nbformat_minor": 5
}
