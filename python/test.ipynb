{
 "cells": [
  {
   "cell_type": "markdown",
   "id": "boxed-refund",
   "metadata": {},
   "source": [
    "#### Start the docker container for development first\n",
    "\n",
    "* Go to the root directory of this repository and run  ``docker run -it --rm -v `pwd`:/gws -p 18000:80 gplates/gws /bin/bash``\n",
    "\n",
    "* Inside the virtual machine: `cd /gws/django/GWS && python3 manage.py runserver 0.0.0.0:80`\n",
    "\n",
    "* The dev server is at http://localhost:18000)"
   ]
  },
  {
   "cell_type": "code",
   "execution_count": 5,
   "id": "underlying-endorsement",
   "metadata": {},
   "outputs": [
    {
     "name": "stdout",
     "output_type": "stream",
     "text": [
      "1.21 s ± 29.7 ms per loop (mean ± std. dev. of 7 runs, 1 loop each)\n"
     ]
    }
   ],
   "source": [
    "import requests, json, time, random\n",
    "SERVER_URL = 'http://127.0.0.1:18000/'\n",
    "proxies = {'http':''}\n",
    "\n",
    "points_str=''\n",
    "for i in range(1000):\n",
    "    points_str+=f'{random.uniform(-180,180):3.2f},'\n",
    "    points_str+=f'{random.uniform(-90,90):3.2f},'\n",
    "\n",
    "#print(points_str)\n",
    "\n",
    "data={'time':140, 'return_null_points':''}\n",
    "data['points'] = points_str[:-1]\n",
    "\n",
    "#t = time.process_time()\n",
    "%timeit r = requests.post(SERVER_URL+'reconstruct/reconstruct_points/',data=data,verify=False, proxies=proxies)\n",
    "#elapsed_time = time.process_time() - t\n",
    "\n",
    "#print(elapsed_time)\n",
    "#print(r.text)\n",
    "#print(json.dumps(json.loads(str(r.text)), sort_keys=True, indent=4))\n",
    "\n"
   ]
  },
  {
   "cell_type": "code",
   "execution_count": null,
   "id": "hearing-gregory",
   "metadata": {},
   "outputs": [],
   "source": [
    "data = json.loads(str(r.text))\n",
    "#print(data)\n",
    "for i in data['coordinates']:\n",
    "    print(i)"
   ]
  },
  {
   "cell_type": "code",
   "execution_count": 13,
   "id": "brilliant-france",
   "metadata": {},
   "outputs": [
    {
     "name": "stdout",
     "output_type": "stream",
     "text": [
      "10000\n"
     ]
    }
   ],
   "source": [
    "import requests, json, time, random\n",
    "\n",
    "def get_lat_lon_at_age(lats, lons, age, model='SETON2012', pids=None, pid=None, \n",
    "                       server_url='https://gws.gplates.org/', proxies={'http':''}):\n",
    "    \n",
    "    assert len(lats) == len(lons)\n",
    "    if pids:\n",
    "        assert len(pids) == len(lons)\n",
    "        \n",
    "    data={'time':age, 'return_null_points':''}\n",
    "    \n",
    "    \n",
    "    #construct the request string for points\n",
    "    points_str=''\n",
    "    for lat, lon in zip(lats, lons):\n",
    "        points_str+=f'{lon:3.2f},'\n",
    "        points_str+=f'{lat:3.2f},'\n",
    "    points_str= points_str[:-1]\n",
    "    \n",
    "    data['points'] = points_str\n",
    "    \n",
    "    #construct the request string for plates ids\n",
    "    if pids:\n",
    "        pids_str=''\n",
    "        for pid_ in pids: \n",
    "            pids_str+=f'{int(pid_)},'\n",
    "        \n",
    "        data['pids'] = pids_str[:-1] \n",
    "        #print(data['pids'])\n",
    "     \n",
    "    if pid:\n",
    "        data['pid'] = f'{int(pid)}'\n",
    "    \n",
    "    data['model'] = model \n",
    "    \n",
    "    ret = requests.post(server_url+'reconstruct/reconstruct_points/',data=data,verify=False, proxies=proxies)\n",
    "    #print(ret.text)\n",
    "    \n",
    "    data = json.loads(str(ret.text))\n",
    "    #print(data)\n",
    "    lats_r=[]\n",
    "    lons_r=[]\n",
    "    for c in data['coordinates']:\n",
    "        if not c:\n",
    "            lats_r.append(float(\"NAN\"))\n",
    "            lons_r.append(float(\"NAN\"))\n",
    "        else:\n",
    "            lats_r.append(c[1])\n",
    "            lons_r.append(c[0])\n",
    "    \n",
    "    return lats_r, lons_r\n",
    " \n",
    "lats=[]\n",
    "lons=[]\n",
    "pids=[]\n",
    "for i in range(10000):\n",
    "    lons.append(random.uniform(-180,180))\n",
    "    lats.append(random.uniform(-90,90))\n",
    "    pids.append(701)\n",
    "    \n",
    "#%timeit lats_r, lons_r = get_lat_lon_at_age(lats, lons, 10, pids=pids, server_url='http://127.0.0.1:18000/') \n",
    "lats_r, lons_r = get_lat_lon_at_age(lats, lons, 10, pids=pids, server_url='http://127.0.0.1:18000/')\n",
    "\n",
    "#%timeit lats_r, lons_r = get_lat_lon_at_age(lats, lons, 10, server_url='http://127.0.0.1:18000/')  \n",
    "#lats_r, lons_r = get_lat_lon_at_age(lats, lons, 10, server_url='http://127.0.0.1:18000/')  \n",
    "\n",
    "#%timeit lats_r, lons_r = get_lat_lon_at_age(lats, lons, 10, pid=701, server_url='http://127.0.0.1:18000/')  \n",
    "#lats_r, lons_r = get_lat_lon_at_age(lats, lons, 10, pid=701, server_url='http://127.0.0.1:18000/')  \n",
    "\n",
    "print(len(list(zip(lats_r, lons_r))))\n",
    "\n"
   ]
  },
  {
   "cell_type": "code",
   "execution_count": null,
   "id": "racial-bernard",
   "metadata": {},
   "outputs": [],
   "source": []
  }
 ],
 "metadata": {
  "kernelspec": {
   "display_name": "Python 3",
   "language": "python",
   "name": "python3"
  },
  "language_info": {
   "codemirror_mode": {
    "name": "ipython",
    "version": 3
   },
   "file_extension": ".py",
   "mimetype": "text/x-python",
   "name": "python",
   "nbconvert_exporter": "python",
   "pygments_lexer": "ipython3",
   "version": "3.7.0"
  }
 },
 "nbformat": 4,
 "nbformat_minor": 5
}
